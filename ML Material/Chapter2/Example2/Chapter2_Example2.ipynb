{
  "nbformat": 4,
  "nbformat_minor": 0,
  "metadata": {
    "colab": {
      "provenance": []
    },
    "kernelspec": {
      "name": "python3",
      "display_name": "Python 3"
    },
    "language_info": {
      "name": "python"
    }
  },
  "cells": [
    {
      "cell_type": "code",
      "execution_count": 3,
      "metadata": {
        "colab": {
          "base_uri": "https://localhost:8080/"
        },
        "id": "pV1kJ5jx7WbG",
        "outputId": "16fd400a-4914-4fae-8e73-98c6761376e5"
      },
      "outputs": [
        {
          "output_type": "stream",
          "name": "stdout",
          "text": [
            "[2.]\n",
            "0.9999999999999982\n",
            "[23.]\n",
            "1.0\n"
          ]
        }
      ],
      "source": [
        "# Simple Linear Regression - Example 1A\n",
        "\n",
        "# Import the libraries\n",
        "import numpy as np\n",
        "import matplotlib.pyplot as plt\n",
        "import pandas as pd\n",
        "\n",
        "# Import the dataset\n",
        "df = pd.read_csv('Salary_Data1.csv')\n",
        "#X = df.YearsOfExperience.values\n",
        "#Y = df.Salary.values\n",
        "X = df[\"Experience\"].values\n",
        "Y = df[\"Salary\"].values\n",
        "#X = df.iloc[:, :-1].values\n",
        "#Y = df.iloc[:, 1].values\n",
        "X = X.reshape(-1, 1)\n",
        "\n",
        "# Fit Simple Linear Regression \n",
        "from sklearn.linear_model import LinearRegression\n",
        "regressor = LinearRegression()\n",
        "regressor.fit(X, Y)\n",
        "\n",
        "# Display Output\n",
        "print(regressor.coef_)\n",
        "print(regressor.intercept_)\n",
        "\n",
        "# Do Prediction\n",
        "print(regressor.predict([[11]]))\n",
        "\n",
        "# Calculate R2 Score\n",
        "Y_pred = regressor.predict(X)\n",
        "from sklearn.metrics import r2_score\n",
        "print(r2_score(Y, Y_pred))\n"
      ]
    }
  ]
}