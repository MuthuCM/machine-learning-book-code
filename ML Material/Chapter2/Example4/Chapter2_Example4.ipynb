{
  "nbformat": 4,
  "nbformat_minor": 0,
  "metadata": {
    "colab": {
      "provenance": []
    },
    "kernelspec": {
      "name": "python3",
      "display_name": "Python 3"
    },
    "language_info": {
      "name": "python"
    }
  },
  "cells": [
    {
      "cell_type": "code",
      "execution_count": null,
      "metadata": {
        "id": "jX1shi7eTA3G"
      },
      "outputs": [],
      "source": [
        "# Multiple Regression 1 - Cut_off Marks Data Set\n",
        "# Import the libraries\n",
        "import numpy as np\n",
        "import matplotlib.pyplot as plt\n",
        "import pandas as pd\n",
        "\n",
        "# Read the data from a CSV file\n",
        "df = pd.read_csv('Mark_Data.csv')\n",
        "#X = df.drop('Cut_off', axis =1).values\n",
        "#Y = df[\"Cut_off\"].values\n",
        "X = df.iloc[:,1:4].values\n",
        "Y = df.iloc[:,4].values\n",
        "\n",
        "# Fitting Multiple Linear Regression to the Training set\n",
        "from sklearn.linear_model import LinearRegression\n",
        "regressor = LinearRegression()\n",
        "regressor.fit(X, Y)\n",
        "print(regressor.coef_)\n",
        "Y_pred = regressor.predict(X)\n",
        "\n",
        "# Calculate Accuracy\n",
        "from sklearn.metrics import r2_score\n",
        "print(r2_score(Y, Y_pred))\n",
        "\n",
        "dictionary1 = { 'Maths' : [190,180,200],\n",
        "                'Physics' : [180,170,170],\n",
        "               'Chemistry': [180,170,170]\n",
        "               }\n",
        "df1 = pd.DataFrame (dictionary1)\n",
        "X = df1.iloc[:, :].values\n",
        "\n",
        "# Do Prediction\n",
        "prediction1 = regressor.predict(X)\n",
        "print(prediction1)"
      ]
    }
  ]
}