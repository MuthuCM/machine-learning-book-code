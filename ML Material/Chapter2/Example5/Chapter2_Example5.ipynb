{
  "nbformat": 4,
  "nbformat_minor": 0,
  "metadata": {
    "colab": {
      "provenance": []
    },
    "kernelspec": {
      "name": "python3",
      "display_name": "Python 3"
    },
    "language_info": {
      "name": "python"
    }
  },
  "cells": [
    {
      "cell_type": "code",
      "execution_count": 1,
      "metadata": {
        "colab": {
          "base_uri": "https://localhost:8080/"
        },
        "id": "VSsoBDsbaWRH",
        "outputId": "24b39194-43e6-4539-972d-d637bc2eb7db"
      },
      "outputs": [
        {
          "output_type": "stream",
          "name": "stdout",
          "text": [
            "[-4.51554477  4.90937031]\n",
            "0.9912905198618567\n",
            "[33.27933324 17.93042361 32.71024315]\n"
          ]
        }
      ],
      "source": [
        "# Multiple Regression 2 - BMI Data Set\n",
        "# Import the libraries\n",
        "import numpy as np\n",
        "import matplotlib.pyplot as plt\n",
        "import pandas as pd\n",
        "\n",
        "# Read the data from a CSV file\n",
        "df = pd.read_csv('bmi_data.csv')\n",
        "#X = df.drop('bmi', axis =1).values\n",
        "#Y = df[\"bmi\"].values\n",
        "X = df.iloc[:,2:4].values\n",
        "Y = df.iloc[:,4].values\n",
        "\n",
        "# Do feature Scaling\n",
        "from sklearn.preprocessing import StandardScaler\n",
        "sc = StandardScaler()\n",
        "X = sc.fit_transform(X)\n",
        "\n",
        "# Fitting Multiple Linear Regression to the Training set\n",
        "from sklearn.linear_model import LinearRegression\n",
        "regressor = LinearRegression()\n",
        "regressor.fit(X, Y)\n",
        "print(regressor.coef_)\n",
        "Y_pred = regressor.predict(X)\n",
        "\n",
        "# Calculate Accuracy\n",
        "from sklearn.metrics import r2_score\n",
        "print(r2_score(Y, Y_pred))\n",
        "\n",
        "dictionary1 = { 'Height' : [174,189,185],\n",
        "                'Weight' : [96,87,110]\n",
        "               }\n",
        "df1 = pd.DataFrame (dictionary1)\n",
        "X1 = df1.iloc[:, :].values\n",
        "X1 = sc.fit_transform(X1)\n",
        "\n",
        "# Do Prediction\n",
        "predictedValues = regressor.predict(X1)\n",
        "print(predictedValues)"
      ]
    }
  ]
}