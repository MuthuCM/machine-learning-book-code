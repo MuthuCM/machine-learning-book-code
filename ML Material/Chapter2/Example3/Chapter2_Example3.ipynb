{
  "nbformat": 4,
  "nbformat_minor": 0,
  "metadata": {
    "colab": {
      "provenance": []
    },
    "kernelspec": {
      "name": "python3",
      "display_name": "Python 3"
    },
    "language_info": {
      "name": "python"
    }
  },
  "cells": [
    {
      "cell_type": "code",
      "execution_count": 2,
      "metadata": {
        "colab": {
          "base_uri": "https://localhost:8080/",
          "height": 0
        },
        "id": "YihVM1FFLkqQ",
        "outputId": "75d2caef-47d0-4578-a09f-3bf48dd0c0b1"
      },
      "outputs": [
        {
          "output_type": "stream",
          "name": "stdout",
          "text": [
            "[9449.96232146]\n",
            "25792.200198668696\n",
            "0.9569566641435086\n",
            "[ 91941.93644885 110841.86109176  54142.08716303]\n"
          ]
        }
      ],
      "source": [
        "# Simple Linear Regression \n",
        "\n",
        "# Import the libraries\n",
        "import numpy as np\n",
        "import matplotlib.pyplot as plt\n",
        "import pandas as pd\n",
        "\n",
        "# Import the dataset\n",
        "df = pd.read_csv('Salary_Data.csv')\n",
        "X = df.iloc[:, 0].values\n",
        "Y = df.iloc[:, 1].values\n",
        "X = X.reshape(-1, 1)\n",
        "\n",
        "# Fitting Simple Linear Regression \n",
        "from sklearn.linear_model import LinearRegression\n",
        "regressor = LinearRegression()\n",
        "regressor.fit(X, Y)\n",
        "\n",
        "print(regressor.coef_)\n",
        "print(regressor.intercept_)\n",
        "\n",
        "# Calculate Accuracy\n",
        "from sklearn.metrics import r2_score\n",
        "accuracy = r2_score(Y, regressor.predict(X)) \n",
        "print(accuracy)\n",
        "\n",
        "#\n",
        "testInput = [7,9,3]\n",
        "testInput = np.array(testInput)\n",
        "testInput = testInput.reshape(-1, 1)\n",
        "predictedValues = regressor.predict(testInput)\n",
        "print(predictedValues)"
      ]
    }
  ]
}