{
  "nbformat": 4,
  "nbformat_minor": 0,
  "metadata": {
    "colab": {
      "provenance": []
    },
    "kernelspec": {
      "name": "python3",
      "display_name": "Python 3"
    },
    "language_info": {
      "name": "python"
    }
  },
  "cells": [
    {
      "cell_type": "code",
      "execution_count": 2,
      "metadata": {
        "colab": {
          "base_uri": "https://localhost:8080/"
        },
        "id": "09jddeyx290J",
        "outputId": "518fadb7-568d-4b0b-b264-891d849f8293"
      },
      "outputs": [
        {
          "output_type": "stream",
          "name": "stdout",
          "text": [
            "[ 6.98982840e-02 -3.55728522e-02  4.48966524e+00 -4.38418881e-03\n",
            " -1.07323064e+00 -5.20827038e-01]\n",
            "0.4762033635181987\n",
            "[31.95640829 26.86530284 32.9799049 ]\n"
          ]
        },
        {
          "output_type": "stream",
          "name": "stderr",
          "text": [
            "/usr/local/lib/python3.10/dist-packages/sklearn/base.py:439: UserWarning: X does not have valid feature names, but LinearRegression was fitted with feature names\n",
            "  warnings.warn(\n"
          ]
        }
      ],
      "source": [
        "# Multiple Regression 1 - Boston Data Set\n",
        "# Importing the libraries\n",
        "import numpy as np\n",
        "import matplotlib.pyplot as plt\n",
        "import pandas as pd\n",
        "\n",
        "# Import the dataset\n",
        "df = pd.read_csv('boston.csv')\n",
        "# X = df.drop('MV', axis =1).values\n",
        "# Y = df.MV.values\n",
        "X = df.iloc[: , 1:7]\n",
        "Y = df.iloc[: , 0]\n",
        "\n",
        "# Split dataset into train and test sets\n",
        "from sklearn.model_selection import train_test_split\n",
        "X_train,X_test,Y_train,Y_test = train_test_split(X,Y,test_size=0.2,random_state=0)\n",
        "\n",
        "# Fitting Multiple Linear Regression to the Training set\n",
        "from sklearn.linear_model import LinearRegression\n",
        "regressor = LinearRegression()\n",
        "regressor.fit(X_train, Y_train)\n",
        "print(regressor.coef_)\n",
        "\n",
        "# Y_pred = regressor.predict(X_train)\n",
        "\n",
        "from sklearn.metrics import r2_score\n",
        "print(r2_score(Y_test, regressor.predict(X_test)))\n",
        "\n",
        "dictionary1 = { 'INDUS' : [2.32,7.06,7.07],\n",
        "                'NOX' : [53.9,47.0,46.9],\n",
        "               'RM': [6.675,6.521,7.280],\n",
        "               'TAX' : [290,240,242],\n",
        "               'PT' : [15,17.9,17.8],\n",
        "               'LSTAT' : [5,9,4]\n",
        "              }\n",
        "df1 = pd.DataFrame (dictionary1)\n",
        "X1 = df1.iloc[:, :].values\n",
        "\n",
        "predictedValues = regressor.predict(X1)\n",
        "print(predictedValues)"
      ]
    }
  ]
}