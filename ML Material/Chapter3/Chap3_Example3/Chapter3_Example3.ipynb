{
  "nbformat": 4,
  "nbformat_minor": 0,
  "metadata": {
    "colab": {
      "provenance": []
    },
    "kernelspec": {
      "name": "python3",
      "display_name": "Python 3"
    },
    "language_info": {
      "name": "python"
    }
  },
  "cells": [
    {
      "cell_type": "code",
      "execution_count": 7,
      "metadata": {
        "colab": {
          "base_uri": "https://localhost:8080/"
        },
        "id": "X6J1SVJt9iYI",
        "outputId": "17424bbe-269e-48fd-a794-ec35c2627758"
      },
      "outputs": [
        {
          "output_type": "stream",
          "name": "stdout",
          "text": [
            "0.856060606060606\n",
            "[3 1 3]\n"
          ]
        }
      ],
      "source": [
        "# Classification example 3 \n",
        "# Import the libraries\n",
        "import numpy as np\n",
        "import pandas as pd\n",
        "import matplotlib.pyplot as plt\n",
        "\n",
        "# Import the dataset\n",
        "dataset = pd.read_csv('Health_Data.csv')\n",
        "X = dataset.iloc[:, [2, 3]].values\n",
        "y = dataset.iloc[:, 4].values\n",
        "\n",
        "# Do Feature Scaling\n",
        "from sklearn.preprocessing import StandardScaler\n",
        "sc = StandardScaler()\n",
        "X = sc.fit_transform(X)\n",
        "\n",
        "# Fit Logistic Regression Classification to the Training set\n",
        "from sklearn.linear_model import LogisticRegression\n",
        "classifier = LogisticRegression()\n",
        "classifier.fit(X, y)\n",
        "\n",
        "# Calculate Accuracy\n",
        "from sklearn.metrics import f1_score\n",
        "print( f1_score(y, classifier.predict(X), average = 'weighted'))\n",
        "\n",
        "# Predict the Test set results\n",
        "testInput = { 'Height' : [174,189,185], 'Weight' : [96,87,110] }\n",
        "testData = pd.DataFrame (testInput)\n",
        "X1 = testData.iloc[:, :].values\n",
        "X1 = sc.fit_transform(X1) \n",
        "predictedValues = classifier.predict(X1)\n",
        "print(predictedValues)"
      ]
    }
  ]
}