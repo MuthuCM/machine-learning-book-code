{
  "nbformat": 4,
  "nbformat_minor": 0,
  "metadata": {
    "colab": {
      "provenance": []
    },
    "kernelspec": {
      "name": "python3",
      "display_name": "Python 3"
    },
    "language_info": {
      "name": "python"
    }
  },
  "cells": [
    {
      "cell_type": "code",
      "execution_count": 3,
      "metadata": {
        "id": "LVcHUreqBDE5",
        "colab": {
          "base_uri": "https://localhost:8080/"
        },
        "outputId": "9268ad3f-594d-4038-9e37-98b98ae47145"
      },
      "outputs": [
        {
          "output_type": "stream",
          "name": "stdout",
          "text": [
            "<class 'pandas.core.frame.DataFrame'>\n",
            "RangeIndex: 150 entries, 0 to 149\n",
            "Data columns (total 5 columns):\n",
            " #   Column        Non-Null Count  Dtype  \n",
            "---  ------        --------------  -----  \n",
            " 0   sepal length  150 non-null    float64\n",
            " 1   sepal width   150 non-null    float64\n",
            " 2   petal length  150 non-null    float64\n",
            " 3   petal width   150 non-null    float64\n",
            " 4   iris          150 non-null    object \n",
            "dtypes: float64(4), object(1)\n",
            "memory usage: 6.0+ KB\n",
            "[0. 0. 0. 0. 0. 0. 0. 0. 0. 0. 0. 0. 0. 0. 0. 0. 0. 0. 0. 0. 0. 0. 0. 0.\n",
            " 0. 0. 0. 0. 0. 0. 0. 0. 0. 0. 0. 0. 0. 0. 0. 0. 0. 0. 0. 0. 0. 0. 0. 0.\n",
            " 0. 0. 1. 1. 1. 1. 1. 1. 1. 1. 1. 1. 1. 1. 1. 1. 1. 1. 1. 1. 1. 1. 2. 1.\n",
            " 1. 1. 1. 1. 1. 2. 1. 1. 1. 1. 1. 2. 1. 1. 1. 1. 1. 1. 1. 1. 1. 1. 1. 1.\n",
            " 1. 1. 1. 1. 2. 2. 2. 2. 2. 2. 1. 2. 2. 2. 2. 2. 2. 2. 2. 2. 2. 2. 2. 2.\n",
            " 2. 2. 2. 2. 2. 2. 2. 2. 2. 2. 2. 2. 2. 2. 2. 2. 2. 2. 2. 2. 2. 2. 2. 2.\n",
            " 2. 2. 2. 2. 2. 2.]\n",
            "[0.]\n",
            "[1.]\n",
            "[2.]\n"
          ]
        },
        {
          "output_type": "stream",
          "name": "stderr",
          "text": [
            "/usr/local/lib/python3.10/dist-packages/sklearn/base.py:439: UserWarning: X does not have valid feature names, but LogisticRegression was fitted with feature names\n",
            "  warnings.warn(\n",
            "/usr/local/lib/python3.10/dist-packages/sklearn/base.py:439: UserWarning: X does not have valid feature names, but LogisticRegression was fitted with feature names\n",
            "  warnings.warn(\n",
            "/usr/local/lib/python3.10/dist-packages/sklearn/base.py:439: UserWarning: X does not have valid feature names, but LogisticRegression was fitted with feature names\n",
            "  warnings.warn(\n"
          ]
        }
      ],
      "source": [
        "# Iris case Study using Decision Tree and Random Forest Algorithms\n",
        "import pandas as pd\n",
        "import numpy as np\n",
        "import matplotlib.pyplot as plt\n",
        "import seaborn as sns\n",
        "\n",
        "# Reading data\n",
        "df = pd.read_csv('iris.csv')\n",
        "df.head()\n",
        "\n",
        "df.drop(df.columns[[5,6,7,8]], axis = 1, inplace = True)\n",
        "df.head()\n",
        "\n",
        "df.info()\n",
        "df.describe()\n",
        "\n",
        "# Data Preprocessing\n",
        "from sklearn.preprocessing import LabelEncoder\n",
        "labelEncoder = LabelEncoder()\n",
        "df['iris'] = labelEncoder.fit_transform(df['iris'])\n",
        "df['iris'] = df['iris'].astype(float)\n",
        "df.dtypes\n",
        "\n",
        "# Visualize Correlation\n",
        "#sns.heatmap(df.corr(), annot = True)\n",
        "#sns.pairplot( df, hue = 'iris', vars = ['sepal length','sepal width','petal length','petal width'])\n",
        "\n",
        "# Define independent and dependent variables\n",
        "X = df.drop(['iris'], axis = 1)\n",
        "y = df['iris']\n",
        "\n",
        "\n",
        "# Fitting Logistic Regression to the Training set\n",
        "from sklearn.linear_model import LogisticRegression\n",
        "classifier = LogisticRegression(random_state = 0)\n",
        "classifier.fit(X, y)\n",
        "y_pred = classifier.predict(X)\n",
        "print(y_pred)\n",
        "\n",
        "# Making Prediction for a new Flower for first test data set\n",
        "inputdata = np.array([[5.1,3.5,1.4,0.2]])  \n",
        "inputdata = inputdata.reshape(len(inputdata), -1)\n",
        "predictedValue = classifier.predict(inputdata)\n",
        "print(predictedValue)\n",
        "\n",
        "# Making Prediction for a new Flower for second test data set\n",
        "inputdata = np.array([[7.0,3.2,4.7,1.4]])  \n",
        "inputdata = inputdata.reshape(len(inputdata), -1)\n",
        "predictedValue = classifier.predict(inputdata)\n",
        "print(predictedValue)\n",
        "\n",
        "# Making Prediction for a new Flower for third test data set\n",
        "inputdata = np.array([[6.3,3.3,6.0,2.5]])  \n",
        "inputdata = inputdata.reshape(len(inputdata), -1)\n",
        "predictedValue = classifier.predict(inputdata)\n",
        "print(predictedValue)\n",
        "\n",
        "\n",
        "\n",
        "\n",
        "\n",
        "\n",
        "\n"
      ]
    }
  ]
}