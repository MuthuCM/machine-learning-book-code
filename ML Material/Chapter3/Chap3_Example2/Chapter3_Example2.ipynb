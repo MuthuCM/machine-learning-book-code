{
  "nbformat": 4,
  "nbformat_minor": 0,
  "metadata": {
    "colab": {
      "provenance": []
    },
    "kernelspec": {
      "name": "python3",
      "display_name": "Python 3"
    },
    "language_info": {
      "name": "python"
    }
  },
  "cells": [
    {
      "cell_type": "code",
      "execution_count": 1,
      "metadata": {
        "colab": {
          "base_uri": "https://localhost:8080/"
        },
        "id": "SbP2fNZc7MjQ",
        "outputId": "6b1298c7-6ff9-4b15-ed01-1d2082d13b5e"
      },
      "outputs": [
        {
          "output_type": "stream",
          "name": "stdout",
          "text": [
            "F-Score:  1.0\n",
            "[1 1 0]\n"
          ]
        }
      ],
      "source": [
        "# Classification Example 2 - Logistic Regression\n",
        "\n",
        "# Importing the libraries\n",
        "import numpy as np\n",
        "import matplotlib.pyplot as plt\n",
        "import pandas as pd\n",
        "\n",
        "# Importing the dataset\n",
        "df = pd.read_csv('VehicleData1.csv')\n",
        "X = df[\"Salary\"].values\n",
        "y = df[\"BikeOrCar\"].values\n",
        "\n",
        "# Feature Scaling\n",
        "from sklearn.preprocessing import StandardScaler\n",
        "sc = StandardScaler()\n",
        "X = X.reshape(-1, 1)\n",
        "X = sc.fit_transform(X)\n",
        "\n",
        "# Fitting Logistic Regression \n",
        "from sklearn.linear_model import LogisticRegression\n",
        "classifier = LogisticRegression()\n",
        "classifier.fit(X, y)\n",
        "\n",
        "# Finding Accuracy Score and Confusion Matrix\n",
        "from sklearn.metrics import f1_score\n",
        "print(\"F-Score: \", f1_score(y, classifier.predict(X)))\n",
        "\n",
        "#testInput = { 'Salary' : [75000,92000,31000] }\n",
        "#testData = pd.DataFrame (testInput)\n",
        "#X = testData.iloc[:, :].values\n",
        "X = [75000,92000,31000]\n",
        "X = np.array(X)\n",
        "X = X.reshape(-1,1)\n",
        "X = sc.fit_transform(X) \n",
        "predictedValues = classifier.predict(X)\n",
        "print(predictedValues)\n"
      ]
    }
  ]
}