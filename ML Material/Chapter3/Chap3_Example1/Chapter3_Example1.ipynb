{
  "nbformat": 4,
  "nbformat_minor": 0,
  "metadata": {
    "colab": {
      "provenance": []
    },
    "kernelspec": {
      "name": "python3",
      "display_name": "Python 3"
    },
    "language_info": {
      "name": "python"
    }
  },
  "cells": [
    {
      "cell_type": "code",
      "execution_count": 1,
      "metadata": {
        "colab": {
          "base_uri": "https://localhost:8080/"
        },
        "id": "JxvHqcnW6sMD",
        "outputId": "482de2a5-27b3-453d-b33a-646d50d6a4dd"
      },
      "outputs": [
        {
          "output_type": "stream",
          "name": "stdout",
          "text": [
            "[0 0 0 0 0 0 0 0 0 0 1 1 1 1 1 1 1 1 1 1]\n"
          ]
        }
      ],
      "source": [
        "# Simple Classification using Logistic Regression\n",
        "# Import the Libraries\n",
        "import numpy as np\n",
        "import pandas as pd\n",
        "import matplotlib.pyplot as plt\n",
        "# Provide Input Data\n",
        "salary = [45000,40000,35000,30000,42000,37000,43000,38000,41000,44000,90000,80000,70000,60000,95000,85000,75000,65000,84000,92000]\n",
        "vehicle_type = [0,0,0,0,0,0,0,0,0,0,1,1,1,1,1,1,1,1,1,1]\n",
        "from sklearn.preprocessing import StandardScaler\n",
        "sc = StandardScaler()\n",
        "salary = np.array(salary)\n",
        "salary = salary.reshape(-1,1)\n",
        "salary = sc.fit_transform(salary)\n",
        "\n",
        "# Fitting Logistic Regression to the Training set\n",
        "from sklearn.linear_model import LogisticRegression\n",
        "classifier = LogisticRegression()\n",
        "classifier.fit(salary, vehicle_type)\n",
        "\n",
        "# Predicting the results\n",
        "predicted_values = classifier.predict(salary)\n",
        "print(predicted_values)\n"
      ]
    }
  ]
}